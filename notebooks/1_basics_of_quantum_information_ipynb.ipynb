{
 "cells": [
  {
   "cell_type": "markdown",
   "metadata": {
    "id": "cArDQYeJjDi5"
   },
   "source": [
    "## 1-1. 量子比特\n",
    "古典コンピュータ（量子コンピュータではない既存のコンピュータのこと）内部では情報は 0 と 1 の２つの状態で表現されている。例えば、スイッチのオン・オフの状態や、電荷がたまった状態とそうでない状態、電圧の高・低などでその２状態を表現している。一方、量子力学では異なる２つの状態の**重ね合わせ状態**というのが許されているので、量子の世界の情報の最小単位である**“量子”ビット**は $\\alpha$と$\\beta$という二つの複素数を用いた複素ベクトルを用いて\n",
    "\n",
    "经典计算机内部的信息由0或者1两种状态表示。比如，开关的<开>和<关>两种状态，以高电位和无电位两种状态表示。而在量子力学中可以使用**叠加态**来表示。因此在量子的世界里，信息的最小单位“量子比特”用$\\alpha$と$\\beta$这两个复数组成的复数向量来表示以下量子状态:\n",
    "\n",
    "$$\n",
    "\\left(\n",
    "\\begin{array}{c}\n",
    "\\alpha \n",
    "\\\\\n",
    "\\beta \n",
    "\\end{array}\n",
    "\\right)\n",
    "$$\n",
    "\n",
    "のようにその量子状態が記述される。"
   ]
  },
  {
   "cell_type": "markdown",
   "metadata": {
    "id": "rhuRq2WujDi5"
   },
   "source": [
    "$\\alpha$や$\\beta$はどの程度の重みで0状態と1状態が重ね合わさっているかを表しており、**複素確率振幅**と呼ばれる。\n",
    "$\\alpha$や$\\beta$が複素数になっているのは、量子の世界では0や1といった離散的な量も波の性質をもち干渉するためである。\n",
    "\n",
    "$\\alpha$和$\\beta$被用来表示0状态1状态的叠加程度，因此也被称为**Complex probability amplitude**(复概率幅度,複素確率振幅)。$\\alpha$和$\\beta$为复数的原因是在量子世界中，0、1等离散量也具有波的性质，相互干扰。\n",
    "\n",
    "\n",
    "\n",
    "对应经典比特0的状态为\n",
    "$$\n",
    "\\left(\n",
    "\\begin{array}{c}\n",
    "1 \n",
    "\\\\\n",
    "0\n",
    "\\end{array}\n",
    "\\right)\n",
    "$$\n",
    "\n",
    "对应经典比特1的状态为\n",
    "\n",
    "$$\n",
    "\\left(\n",
    "\\begin{array}{c}\n",
    "0 \n",
    "\\\\\n",
    "1\n",
    "\\end{array}\n",
    "\\right)\n",
    "$$\n"
   ]
  },
  {
   "cell_type": "markdown",
   "metadata": {
    "id": "jyz8NYXVjDi6"
   },
   "source": [
    "列ベクトルを毎回書いているとスペースが無駄なので、**ディラックのブラケット表記**という簡略化した表記を導入する。これは列ベクトルである、という量子状態の型宣言のようなもので、この記号がついていると量子状態をあらわす複素ベクトルであることが一目でわかるようになっている。\n",
    "\n",
    "因为每次书写列向量的话很浪费和空间，所我们可以使用**狄拉克braket**这种简化写法。当我们看到这个记号的时候，我们就可以迅速的明白这是表示量子态的复向量。\n",
    "\n",
    "$$\n",
    "|0\\rangle = \\left(\n",
    "\\begin{array}{c}\n",
    "1 \n",
    "\\\\\n",
    "0\n",
    "\\end{array}\n",
    "\\right)\n",
    "$$\n",
    "$$\n",
    "|1\\rangle = \\left(\n",
    "\\begin{array}{c}\n",
    "0\n",
    "\\\\\n",
    "1\n",
    "\\end{array}\n",
    "\\right)\n",
    "$$\n",
    "\n",
    "\n",
    "使用这种方法，量子比特可以表示为\n",
    "\n",
    "$$\n",
    "|\\psi \\rangle = \\alpha |0\\rangle + \\beta |1\\rangle \n",
    "$$\n"
   ]
  },
  {
   "cell_type": "markdown",
   "metadata": {
    "id": "qdjvhYqrjDi7"
   },
   "source": [
    "### 复概率幅度(Complex probability amplitude)的意义"
   ]
  },
  {
   "cell_type": "markdown",
   "metadata": {
    "id": "beNKd2n8jDi9"
   },
   "source": [
    "複素確率振幅はいったいどのような物理的実体に対応するだろうか。実は、量子力学では観測者（人間）は直接複素確率振幅にはアクセスすることができず、**測定という操作をした時に初めて0か1かが確率的にきまる**。測定結果の確率分布に影響するのが複素確率振幅である。測定結果が0になる確率$p_0$, 1になる確率$p_1$は複素確率振幅の絶対値の2乗で表される:\n",
    "\n",
    "复概率幅度到底对应着什么样的物理实体呢？实际上，量子力学里面观测者（人类）不能直接得到复概率幅度（坍缩），只有在**测定操作的时候才能有机率地决定0还是1**。\n",
    "\n",
    "$$ \n",
    "p_0 = |\\alpha |^2,\n",
    "\\\\\n",
    "p_1 = |\\beta |^2\n",
    "$$\n",
    "\n",
    "確率の和が1になるように、規格化条件 $|\\alpha |^2 + |\\beta |^2 =1$を課す。\n",
    "\n",
    "为了让概率的和为1，我们定义归一化条件$|\\alpha |^2 + |\\beta |^2 =1$。\n",
    "\n",
    "**測定を行うと、量子状態は測定結果に対応する状態に変化する**。具体的には、測定結果が0の場合は$|0\\rangle$、1の場合は$|1\\rangle$に変化する。この測定を、正規直交基底$|0\\rangle$, $|1\\rangle$での射影測定と呼ぶ。$|0\\rangle$, $|1\\rangle$以外の正規直交基底での射影測定や、より一般の測定もあるが、ここでは扱わない。\n",
    "\n",
    "**进行测定操作的时候，量子状态会变成跟测定结果对应的状态**。具体来说，测定结果为0的时候为$|0\\rangle$，1的时候为$|1\\rangle$。这个测定被称为标准正交基$|0\\rangle$, $|1\\rangle$的投影测量。\n",
    "\n",
    "总结：\n",
    "\n",
    "- 量子状态可以用大小为1的归一化复数向量表示。\n",
    "- 各分量的绝对值的平方为，测定之后得到的每个分量对应状态的概率。\n",
    "- 测定后的量子状态为，测定结果对应的$|0\\rangle$或着$|1\\rangle$。\n",
    "\n",
    "因此\n",
    "\n",
    "$$\n",
    "|0\\rangle = \\left(\n",
    "\\begin{array}{c}\n",
    "1 \n",
    "\\\\\n",
    "0\n",
    "\\end{array}\n",
    "\\right), |1\\rangle = \\left(\n",
    "\\begin{array}{c}\n",
    "0\n",
    "\\\\\n",
    "1\n",
    "\\end{array}\n",
    "\\right)\n",
    "$$\n",
    "\n",
    "\n",
    "是对应着0或者1的古典状态，\n",
    "\n",
    "$$\n",
    "\\frac{1}{\\sqrt{2}}\n",
    "(|0\\rangle + |1\\rangle) = \\left(\n",
    "\\begin{array}{c}\n",
    "\\frac{1}{\\sqrt{2}}\n",
    "\\\\\n",
    "\\frac{1}{\\sqrt{2}}\n",
    "\\end{array}\n",
    "\\right)\n",
    "$$\n",
    "\n",
    "是0和1具有相同概率的叠加状态，测定的时候各有1/2的概率完全随机的得到0或者1的结果。\n",
    "\n",
    "由于复概率幅度是复数，因此\n",
    "\n",
    "$$\n",
    "\\frac{1}{\\sqrt{2}}(|0\\rangle + i|1\\rangle ) =\n",
    "\\left( \n",
    "\\begin{array}{c}\n",
    "\\frac{1}{\\sqrt{2}}\n",
    "\\\\\n",
    "\\frac{i}{\\sqrt{2}}\n",
    "\\end{array}\n",
    "\\right)\n",
    "$$\n",
    "\n",
    "这样的状态也可以存在。更一般的\n",
    "\n",
    "$$\n",
    "\\frac{1}{\\sqrt{2}} ( |0\\rangle + e^{ i \\phi } |1\\rangle )\n",
    "$$\n",
    "\n",
    "\n",
    "なども許されている。この状態の場合、状態0に対する確率振幅 ($1/\\sqrt{2}$) が正の実数であるのに対して、状態1に対する確率振幅 ($e^{i\\phi}/\\sqrt{2}$) は、複素平面上で$\\phi$回転している。このような、重ね合わせ状態における確率振幅間の相対的な偏角のことを**位相**と呼び、量子力学全般において重要な役割を果たす。\n",
    "\n",
    "也可以存在。在这种状态，状态0对应的复概率幅度($1/\\sqrt{2}$) 是正实数，状态1对应的复概率幅度($e^{i\\phi}/\\sqrt{2}$) 在复数平面上以$\\phi$角度旋转。如此，叠加态和覆盖率幅度之间相对应的偏角被称为**相位**，在量子力学中起着重要的作用。\n",
    "\n",
    "(詳細は Nielsen-Chuang の `1.2 Quantum bits` を参照)"
   ]
  },
  {
   "cell_type": "markdown",
   "metadata": {
    "id": "Oi3PkG3KjDi9"
   },
   "source": [
    "### 试着使用SymPy来表示量子比特\n",
    "\n",
    "SymPy可以处理量子状态。用` Qubit() `函数来初期化量子比特。"
   ]
  },
  {
   "cell_type": "code",
   "execution_count": 1,
   "metadata": {
    "id": "U-NFd2sGjDi-"
   },
   "outputs": [],
   "source": [
    "from IPython.display import Image, display_png\n",
    "from sympy import *\n",
    "from sympy.physics.quantum import *\n",
    "from sympy.physics.quantum.qubit import Qubit,QubitBra\n",
    "init_printing() # ベクトルや行列を綺麗に表示するため"
   ]
  },
  {
   "cell_type": "code",
   "execution_count": 2,
   "metadata": {
    "id": "anYhR7e63Tea",
    "nbsphinx": "hidden"
   },
   "outputs": [],
   "source": [
    "# Google Colaboratory上でのみ実行してください\n",
    "from IPython.display import HTML\n",
    "def setup_mathjax():\n",
    "    display(HTML('''\n",
    "    <script>\n",
    "        if (!window.MathJax && window.google && window.google.colab) {\n",
    "            window.MathJax = {\n",
    "                'tex2jax': {\n",
    "                    'inlineMath': [['$', '$'], ['\\\\(', '\\\\)']],\n",
    "                    'displayMath': [['$$', '$$'], ['\\\\[', '\\\\]']],\n",
    "                    'processEscapes': true,\n",
    "                    'processEnvironments': true,\n",
    "                    'skipTags': ['script', 'noscript', 'style', 'textarea', 'code'],\n",
    "                    'displayAlign': 'center',\n",
    "                },\n",
    "                'HTML-CSS': {\n",
    "                    'styles': {'.MathJax_Display': {'margin': 0}},\n",
    "                    'linebreaks': {'automatic': true},\n",
    "                    // Disable to prevent OTF font loading, which aren't part of our\n",
    "                    // distribution.\n",
    "                    'imageFont': null,\n",
    "                },\n",
    "               'messageStyle': 'none'\n",
    "            };\n",
    "            var script = document.createElement(\"script\");\n",
    "            script.src = \"https://colab.research.google.com/static/mathjax/MathJax.js?config=TeX-AMS_HTML-full,Safe\";\n",
    "            document.head.appendChild(script);\n",
    "        }\n",
    "    </script>\n",
    "    '''))\n",
    "get_ipython().events.register('pre_run_cell', setup_mathjax)"
   ]
  },
  {
   "cell_type": "code",
   "execution_count": 3,
   "metadata": {
    "id": "4-mDIVL63Tea",
    "outputId": "290a0065-1649-4ee2-fa29-8fa2a4188850"
   },
   "outputs": [
    {
     "data": {
      "text/html": [
       "\n",
       "    <script>\n",
       "        if (!window.MathJax && window.google && window.google.colab) {\n",
       "            window.MathJax = {\n",
       "                'tex2jax': {\n",
       "                    'inlineMath': [['$', '$'], ['\\(', '\\)']],\n",
       "                    'displayMath': [['$$', '$$'], ['\\[', '\\]']],\n",
       "                    'processEscapes': true,\n",
       "                    'processEnvironments': true,\n",
       "                    'skipTags': ['script', 'noscript', 'style', 'textarea', 'code'],\n",
       "                    'displayAlign': 'center',\n",
       "                },\n",
       "                'HTML-CSS': {\n",
       "                    'styles': {'.MathJax_Display': {'margin': 0}},\n",
       "                    'linebreaks': {'automatic': true},\n",
       "                    // Disable to prevent OTF font loading, which aren't part of our\n",
       "                    // distribution.\n",
       "                    'imageFont': null,\n",
       "                },\n",
       "               'messageStyle': 'none'\n",
       "            };\n",
       "            var script = document.createElement(\"script\");\n",
       "            script.src = \"https://colab.research.google.com/static/mathjax/MathJax.js?config=TeX-AMS_HTML-full,Safe\";\n",
       "            document.head.appendChild(script);\n",
       "        }\n",
       "    </script>\n",
       "    "
      ],
      "text/plain": [
       "<IPython.core.display.HTML object>"
      ]
     },
     "metadata": {},
     "output_type": "display_data"
    }
   ],
   "source": [
    "psi = Qubit('0')"
   ]
  },
  {
   "cell_type": "code",
   "execution_count": 4,
   "metadata": {
    "id": "23yD1G8LjDjB",
    "outputId": "10f115e7-14df-4157-ef75-bde1a60fcb57"
   },
   "outputs": [
    {
     "data": {
      "text/html": [
       "\n",
       "    <script>\n",
       "        if (!window.MathJax && window.google && window.google.colab) {\n",
       "            window.MathJax = {\n",
       "                'tex2jax': {\n",
       "                    'inlineMath': [['$', '$'], ['\\(', '\\)']],\n",
       "                    'displayMath': [['$$', '$$'], ['\\[', '\\]']],\n",
       "                    'processEscapes': true,\n",
       "                    'processEnvironments': true,\n",
       "                    'skipTags': ['script', 'noscript', 'style', 'textarea', 'code'],\n",
       "                    'displayAlign': 'center',\n",
       "                },\n",
       "                'HTML-CSS': {\n",
       "                    'styles': {'.MathJax_Display': {'margin': 0}},\n",
       "                    'linebreaks': {'automatic': true},\n",
       "                    // Disable to prevent OTF font loading, which aren't part of our\n",
       "                    // distribution.\n",
       "                    'imageFont': null,\n",
       "                },\n",
       "               'messageStyle': 'none'\n",
       "            };\n",
       "            var script = document.createElement(\"script\");\n",
       "            script.src = \"https://colab.research.google.com/static/mathjax/MathJax.js?config=TeX-AMS_HTML-full,Safe\";\n",
       "            document.head.appendChild(script);\n",
       "        }\n",
       "    </script>\n",
       "    "
      ],
      "text/plain": [
       "<IPython.core.display.HTML object>"
      ]
     },
     "metadata": {},
     "output_type": "display_data"
    },
    {
     "data": {
      "image/png": "[encoded data removed]",
      "text/latex": [
       "$\\displaystyle {\\left|0\\right\\rangle }$"
      ],
      "text/plain": [
       "❘0⟩"
      ]
     },
     "execution_count": 4,
     "metadata": {},
     "output_type": "execute_result"
    }
   ],
   "source": [
    "psi #用braket表示"
   ]
  },
  {
   "cell_type": "code",
   "execution_count": null,
   "metadata": {
    "id": "mBiG7DB7jDjE",
    "outputId": "edfa2ecb-75fc-427d-9b30-9f93bddd8d1a"
   },
   "outputs": [
    {
     "data": {
      "text/html": [
       "\n",
       "    <script>\n",
       "        if (!window.MathJax && window.google && window.google.colab) {\n",
       "            window.MathJax = {\n",
       "                'tex2jax': {\n",
       "                    'inlineMath': [['$', '$'], ['\\(', '\\)']],\n",
       "                    'displayMath': [['$$', '$$'], ['\\[', '\\]']],\n",
       "                    'processEscapes': true,\n",
       "                    'processEnvironments': true,\n",
       "                    'skipTags': ['script', 'noscript', 'style', 'textarea', 'code'],\n",
       "                    'displayAlign': 'center',\n",
       "                },\n",
       "                'HTML-CSS': {\n",
       "                    'styles': {'.MathJax_Display': {'margin': 0}},\n",
       "                    'linebreaks': {'automatic': true},\n",
       "                    // Disable to prevent OTF font loading, which aren't part of our\n",
       "                    // distribution.\n",
       "                    'imageFont': null,\n",
       "                },\n",
       "               'messageStyle': 'none'\n",
       "            };\n",
       "            var script = document.createElement(\"script\");\n",
       "            script.src = \"https://colab.research.google.com/static/mathjax/MathJax.js?config=TeX-AMS_HTML-full,Safe\";\n",
       "            document.head.appendChild(script);\n",
       "        }\n",
       "    </script>\n",
       "    "
      ],
      "text/plain": [
       "<IPython.core.display.HTML object>"
      ]
     },
     "metadata": {},
     "output_type": "display_data"
    },
    {
     "data": {
      "image/png": "[encoded data removed]",
      "text/latex": [
       "$$\\left[\\begin{matrix}1\\\\0\\end{matrix}\\right]$$"
      ],
      "text/plain": [
       "⎡1⎤\n",
       "⎢ ⎥\n",
       "⎣0⎦"
      ]
     },
     "execution_count": 5,
     "metadata": {},
     "output_type": "execute_result"
    }
   ],
   "source": [
    "represent(psi) #用列向量表示"
   ]
  },
  {
   "cell_type": "markdown",
   "metadata": {
    "id": "5WFFlU7PjDjI"
   },
   "source": [
    "SymPy可以将文字用符号表示，因此一般的量子比特也可以简单的写出。"
   ]
  },
  {
   "cell_type": "code",
   "execution_count": 5,
   "metadata": {
    "id": "rFqkqRPgjDjI",
    "outputId": "a68c9e22-ab40-49c6-98c4-b03d84a28e92"
   },
   "outputs": [
    {
     "data": {
      "text/html": [
       "\n",
       "    <script>\n",
       "        if (!window.MathJax && window.google && window.google.colab) {\n",
       "            window.MathJax = {\n",
       "                'tex2jax': {\n",
       "                    'inlineMath': [['$', '$'], ['\\(', '\\)']],\n",
       "                    'displayMath': [['$$', '$$'], ['\\[', '\\]']],\n",
       "                    'processEscapes': true,\n",
       "                    'processEnvironments': true,\n",
       "                    'skipTags': ['script', 'noscript', 'style', 'textarea', 'code'],\n",
       "                    'displayAlign': 'center',\n",
       "                },\n",
       "                'HTML-CSS': {\n",
       "                    'styles': {'.MathJax_Display': {'margin': 0}},\n",
       "                    'linebreaks': {'automatic': true},\n",
       "                    // Disable to prevent OTF font loading, which aren't part of our\n",
       "                    // distribution.\n",
       "                    'imageFont': null,\n",
       "                },\n",
       "               'messageStyle': 'none'\n",
       "            };\n",
       "            var script = document.createElement(\"script\");\n",
       "            script.src = \"https://colab.research.google.com/static/mathjax/MathJax.js?config=TeX-AMS_HTML-full,Safe\";\n",
       "            document.head.appendChild(script);\n",
       "        }\n",
       "    </script>\n",
       "    "
      ],
      "text/plain": [
       "<IPython.core.display.HTML object>"
      ]
     },
     "metadata": {},
     "output_type": "display_data"
    },
    {
     "data": {
      "image/png": "[encoded data removed]",
      "text/latex": [
       "$\\displaystyle \\alpha {\\left|0\\right\\rangle } + \\beta {\\left|1\\right\\rangle }$"
      ],
      "text/plain": [
       "α⋅❘0⟩ + β⋅❘1⟩"
      ]
     },
     "execution_count": 5,
     "metadata": {},
     "output_type": "execute_result"
    }
   ],
   "source": [
    "a, b = symbols('alpha, beta')  #a, bをシンボルとして、alpha, betaとして表示\n",
    "ket0 = Qubit('0')\n",
    "ket1 = Qubit('1')\n",
    "psi = a * ket0 + b* ket1\n",
    "psi # 状態をそのまま書くとケットで表示してくれる"
   ]
  },
  {
   "cell_type": "code",
   "execution_count": 6,
   "metadata": {
    "id": "dITE71DOjDjM",
    "outputId": "dc31b38a-0c7c-4c74-d700-273442527fb5"
   },
   "outputs": [
    {
     "data": {
      "text/html": [
       "\n",
       "    <script>\n",
       "        if (!window.MathJax && window.google && window.google.colab) {\n",
       "            window.MathJax = {\n",
       "                'tex2jax': {\n",
       "                    'inlineMath': [['$', '$'], ['\\(', '\\)']],\n",
       "                    'displayMath': [['$$', '$$'], ['\\[', '\\]']],\n",
       "                    'processEscapes': true,\n",
       "                    'processEnvironments': true,\n",
       "                    'skipTags': ['script', 'noscript', 'style', 'textarea', 'code'],\n",
       "                    'displayAlign': 'center',\n",
       "                },\n",
       "                'HTML-CSS': {\n",
       "                    'styles': {'.MathJax_Display': {'margin': 0}},\n",
       "                    'linebreaks': {'automatic': true},\n",
       "                    // Disable to prevent OTF font loading, which aren't part of our\n",
       "                    // distribution.\n",
       "                    'imageFont': null,\n",
       "                },\n",
       "               'messageStyle': 'none'\n",
       "            };\n",
       "            var script = document.createElement(\"script\");\n",
       "            script.src = \"https://colab.research.google.com/static/mathjax/MathJax.js?config=TeX-AMS_HTML-full,Safe\";\n",
       "            document.head.appendChild(script);\n",
       "        }\n",
       "    </script>\n",
       "    "
      ],
      "text/plain": [
       "<IPython.core.display.HTML object>"
      ]
     },
     "metadata": {},
     "output_type": "display_data"
    },
    {
     "data": {
      "text/latex": [
       "$\\displaystyle \\left[\\begin{matrix}\\alpha\\\\\\beta\\end{matrix}\\right]$"
      ],
      "text/plain": [
       "⎡α⎤\n",
       "⎢ ⎥\n",
       "⎣β⎦"
      ]
     },
     "execution_count": 6,
     "metadata": {},
     "output_type": "execute_result"
    }
   ],
   "source": [
    "represent(psi)"
   ]
  },
  {
   "cell_type": "markdown",
   "metadata": {
    "id": "suKiATZ5jDjP"
   },
   "source": [
    "当然也可以代入具体的数值。"
   ]
  },
  {
   "cell_type": "code",
   "execution_count": null,
   "metadata": {
    "id": "55qn4NVHjDjP",
    "outputId": "564385b8-150e-4110-fa37-58134acf3abc",
    "scrolled": true
   },
   "outputs": [
    {
     "data": {
      "text/html": [
       "\n",
       "    <script>\n",
       "        if (!window.MathJax && window.google && window.google.colab) {\n",
       "            window.MathJax = {\n",
       "                'tex2jax': {\n",
       "                    'inlineMath': [['$', '$'], ['\\(', '\\)']],\n",
       "                    'displayMath': [['$$', '$$'], ['\\[', '\\]']],\n",
       "                    'processEscapes': true,\n",
       "                    'processEnvironments': true,\n",
       "                    'skipTags': ['script', 'noscript', 'style', 'textarea', 'code'],\n",
       "                    'displayAlign': 'center',\n",
       "                },\n",
       "                'HTML-CSS': {\n",
       "                    'styles': {'.MathJax_Display': {'margin': 0}},\n",
       "                    'linebreaks': {'automatic': true},\n",
       "                    // Disable to prevent OTF font loading, which aren't part of our\n",
       "                    // distribution.\n",
       "                    'imageFont': null,\n",
       "                },\n",
       "               'messageStyle': 'none'\n",
       "            };\n",
       "            var script = document.createElement(\"script\");\n",
       "            script.src = \"https://colab.research.google.com/static/mathjax/MathJax.js?config=TeX-AMS_HTML-full,Safe\";\n",
       "            document.head.appendChild(script);\n",
       "        }\n",
       "    </script>\n",
       "    "
      ],
      "text/plain": [
       "<IPython.core.display.HTML object>"
      ]
     },
     "metadata": {},
     "output_type": "display_data"
    },
    {
     "data": {
      "image/png": "[encoded data removed]",
      "text/latex": [
       "$$\\frac{\\sqrt{2} {\\left|0\\right\\rangle }}{2} + \\frac{\\sqrt{2} {\\left|1\\right\\rangle }}{2}$$"
      ],
      "text/plain": [
       "√2⋅❘0⟩   √2⋅❘1⟩\n",
       "────── + ──────\n",
       "  2        2   "
      ]
     },
     "execution_count": 8,
     "metadata": {},
     "output_type": "execute_result"
    }
   ],
   "source": [
    "psi.subs([([a,1/sqrt(2)]),([b,1/sqrt(2)])]) # alpha, betaに具体的な数字を代入"
   ]
  }
 ],
 "metadata": {
  "colab": {
   "name": "“1_basics_of_quantum_information.ipynb”的副本",
   "provenance": []
  },
  "kernelspec": {
   "display_name": "Python 3",
   "language": "python",
   "name": "python3"
  },
  "language_info": {
   "codemirror_mode": {
    "name": "ipython",
    "version": 3
   },
   "file_extension": ".py",
   "mimetype": "text/x-python",
   "name": "python",
   "nbconvert_exporter": "python",
   "pygments_lexer": "ipython3",
   "version": "3.7.9"
  },
  "varInspector": {
   "cols": {
    "lenName": 16,
    "lenType": 16,
    "lenVar": 40
   },
   "kernels_config": {
    "python": {
     "delete_cmd_postfix": "",
     "delete_cmd_prefix": "del ",
     "library": "var_list.py",
     "varRefreshCmd": "print(var_dic_list())"
    },
    "r": {
     "delete_cmd_postfix": ") ",
     "delete_cmd_prefix": "rm(",
     "library": "var_list.r",
     "varRefreshCmd": "cat(var_dic_list()) "
    }
   },
   "types_to_exclude": [
    "module",
    "function",
    "builtin_function_or_method",
    "instance",
    "_Feature"
   ],
   "window_display": false
  }
 },
 "nbformat": 4,
 "nbformat_minor": 1
}
